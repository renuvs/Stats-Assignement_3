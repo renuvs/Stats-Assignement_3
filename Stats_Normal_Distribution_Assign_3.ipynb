{
 "cells": [
  {
   "cell_type": "code",
   "execution_count": 3,
   "id": "5c563260",
   "metadata": {},
   "outputs": [
    {
     "name": "stdout",
     "output_type": "stream",
     "text": [
      "15.87% employees are older than 44\n",
      "34.13% employees are between 38 and 44\n",
      "9.12% employees are under the age of 30\n"
     ]
    }
   ],
   "source": [
    "from scipy import stats as stats\n",
    "\n",
    "#mean = 38, SD = 6\n",
    "#More employees at the processing center are older than 44 than between 38 and 44.\n",
    "older_44 = round(1 - stats.norm.cdf(x=44,loc=38,scale=6),4)\n",
    "var_38_44 = round(stats.norm.cdf(x=44,loc=38,scale=6) - stats.norm.cdf(x=38,loc=38,scale=6),4)\n",
    "#print(older_44)\n",
    "\n",
    "print(\"{0:.2%} employees are older than 44\".format(older_44))  #for older than 44 \n",
    "#between 38 and 44\n",
    "print(\"{0:.2%} employees are between 38 and 44\".format(var_38_44))\n",
    "\n",
    "under_30 = stats.norm.cdf(x=30,loc=38,scale=6) # under the age of 30\n",
    "print(\"{0:.2%} employees are under the age of 30\".format(under_30))"
   ]
  },
  {
   "cell_type": "markdown",
   "id": "01ec95ba",
   "metadata": {},
   "source": [
    "The time required for servicing transmissions is normally distributed with  = 45 minutes and  = 8 minutes. The service manager plans to have work begin on the transmission of a customer’s car 10 minutes after the car is dropped off and the customer is told that the car will be ready within 1 hour from drop-off. What is the probability that the service manager cannot meet his commitment? \n",
    "\n",
    "mean = 45 Mins\n",
    "SD   = 8 Mins\n",
    "X    > 50    coz starting work 10 mins late and need to finish in 60 mins so net time will be 60-10 = 50 mins"
   ]
  },
  {
   "cell_type": "code",
   "execution_count": 13,
   "id": "a0cad898",
   "metadata": {},
   "outputs": [
    {
     "data": {
      "text/plain": [
       "0.26598552904870054"
      ]
     },
     "execution_count": 13,
     "metadata": {},
     "output_type": "execute_result"
    }
   ],
   "source": [
    "1- stats.norm.cdf(x=50,loc=45,scale=8 )"
   ]
  },
  {
   "cell_type": "markdown",
   "id": "16c1b6c6",
   "metadata": {},
   "source": [
    "Let X ~ N(100, 20 square). Find two vSpecify a Rupee range (centered on the mean) such that it contains 95% probability for the annual profit of the company.alues, a and b, symmetric about the mean, such that the probability of the random variable taking a value between them is 0.99. \n",
    "\n",
    "mean = 100\n",
    "variance square = 20 square\n",
    "SD              = squareroot of 20 square\n",
    "                = 20\n"
   ]
  },
  {
   "cell_type": "code",
   "execution_count": 10,
   "id": "b2daa6ad",
   "metadata": {},
   "outputs": [
    {
     "data": {
      "text/plain": [
       "(48.48341392902199, 151.516586070978)"
      ]
     },
     "execution_count": 10,
     "metadata": {},
     "output_type": "execute_result"
    }
   ],
   "source": [
    "stats.norm.interval(0.99,100,20)"
   ]
  },
  {
   "cell_type": "markdown",
   "id": "17a5087e",
   "metadata": {},
   "source": [
    "5.\tConsider a company that has two different divisions. The annual profits from the two divisions are independent and have distributions Profit1 ~ N(5, 3*3) and Profit2 ~  N(7, 4*4)respectively. Both the profits are in $ Million. \n",
    "Answer the following questions about the total profit of the company in Rupees. Assume that $1 = Rs. 45\n",
    "\n",
    "A.\tSpecify a Rupee range (centered on the mean) such that it contains 95% probability for the annual profit of the company.\n",
    "B.\tSpecify the 5th percentile of profit (in Rupees) for the company\n",
    "C.\tWhich of the two divisions has a larger probability of making a loss in a given year?"
   ]
  },
  {
   "cell_type": "code",
   "execution_count": 55,
   "id": "c89dc845",
   "metadata": {},
   "outputs": [
    {
     "name": "stdout",
     "output_type": "stream",
     "text": [
      "Mean profit for both divisions is Rs. 540 millions\n",
      "Standard Deviation for both division is Rs. 225.0 millions\n",
      "\n",
      "A. Range in Rs (99.00810347848784, 980.9918965215122) millions\n",
      "\n",
      "B. 5th percentile of profit for the company is Rs. 170 millions\n",
      "\n",
      "C. Probability of division 1 making loss is  0.0478\n",
      "C. Probability of division 2 making loss is  0.0401\n"
     ]
    }
   ],
   "source": [
    "from scipy import stats as stats\n",
    "import numpy as np\n",
    "\n",
    "# mean profit from 2 divisions \n",
    "mean = 5+7\n",
    "mean_rs = mean*45\n",
    "print(\"Mean profit for both divisions is Rs.\",mean_rs, \"millions\") #$1=45\n",
    "\n",
    "#Variance of profit from 2 divisions is 9+16\n",
    "# SD = sqrt of variance\n",
    "sd = np.sqrt(9+16) \n",
    "sd_rs =sd*45\n",
    "print(\"Standard Deviation for both division is Rs.\",sd_rs, \"millions\\n\") # $1= 45\n",
    "\n",
    "\n",
    "# A. Specify a Rupee range such that it contains 95% probability for the annual profit of the company.\n",
    "print(\"A. Range in Rs\",stats.norm.interval(0.95,mean_rs,sd_rs),\"millions\\n\")\n",
    "\n",
    "# B. Specify the 5th percentile of profit (in Rupees) for the company\n",
    "# To compute 5th Percentile, we use the formula X=μ + Zσ; wherein from z table, 5 percentile = -1.645\n",
    "z_score = stats.norm.ppf(0.05) # using python code instead of z table\n",
    "#round(z_score,3)\n",
    "\n",
    "#X = μ + Zσ\n",
    "X=mean_rs + round(z_score,3)*sd_rs\n",
    "print(\"B. 5th percentile of profit for the company is Rs.\",round(X),\"millions\\n\")\n",
    "\n",
    "# C. Which of the two divisions has a larger probability of making a loss in a given year?\n",
    "\n",
    "# Probability of Division 1 making a loss P(X<0)\n",
    "print(\"C. Probability of division 1 making loss is \",round(stats.norm.cdf(0,5,3),4))\n",
    "\n",
    "# Probability of Division 2 making a loss P(X<0)\n",
    "print(\"C. Probability of division 2 making loss is \",round(stats.norm.cdf(0,7,4),4))"
   ]
  }
 ],
 "metadata": {
  "kernelspec": {
   "display_name": "Python 3",
   "language": "python",
   "name": "python3"
  },
  "language_info": {
   "codemirror_mode": {
    "name": "ipython",
    "version": 3
   },
   "file_extension": ".py",
   "mimetype": "text/x-python",
   "name": "python",
   "nbconvert_exporter": "python",
   "pygments_lexer": "ipython3",
   "version": "3.8.8"
  }
 },
 "nbformat": 4,
 "nbformat_minor": 5
}
